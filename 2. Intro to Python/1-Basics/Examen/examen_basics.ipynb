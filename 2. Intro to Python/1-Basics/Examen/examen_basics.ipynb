{
 "cells": [
  {
   "cell_type": "markdown",
   "metadata": {},
   "source": [
    "# PYTHON BASICS\n",
    "\n",
    "----\n",
    "\n",
    "Este examen se evaluará de tal forma que se vea la maestría del alumno sobre Python. Esto se ve no solamente con el código bien elaborado, sino con comentarios sobre el código. Se debe demostrar los conocimientos adquiridos en clase.\n",
    "\n",
    "Se evaluará:\n",
    "- Que se haya llegado a una solución (60%)\n",
    "- Que se haya llegado a soluciones creativas, no en todas las preguntas, sino en aquellas en las que sea apropiado, mostrando una forma alternativa de resolver un apartado (30%)\n",
    "- Documentación del código - comentarios - y claridad en el mismo (10%)\n",
    "\n",
    "Atención: Solo se aceptan entregas en formato html\n",
    "\n",
    "Recuerda:\n",
    "- El uso de Inteligencia Artifical generativa revierte en un suspenso automático\n",
    "- Cualquier comunicación con compañeros revierte en un suspenso automático\n",
    "- Está permitido consultar documentación"
   ]
  },
  {
   "cell_type": "markdown",
   "metadata": {},
   "source": [
    "![imagen](./img/ejercicios.png)"
   ]
  },
  {
   "cell_type": "markdown",
   "metadata": {},
   "source": [
    "## Ejercicio 1 | Python\n",
    "Imprime por pantalla esta cita con el siguiente formato\n",
    "\n",
    "![imagen](./img/frase_Einstein.PNG)"
   ]
  },
  {
   "cell_type": "code",
<<<<<<< HEAD
   "execution_count": 24,
=======
   "execution_count": 9,
>>>>>>> upstream/main
   "metadata": {},
   "outputs": [
    {
     "name": "stdout",
     "output_type": "stream",
     "text": [
      "¿Por qué esta magnífica tecnología científica,\n",
      "\tque ahorra trabajo y nos hace la vida más fácil,\n",
<<<<<<< HEAD
      "\t\tnos aporta tan poca felicidad?\n",
=======
      "\t\t nos aporta tan poca felicidad?\n",
>>>>>>> upstream/main
      "\t\t\tLa respuesta es está, simplemente: porque aún no hemos aprendido a usarla con tino.\n",
      "\n",
      "\"Albert Einstein\"\n"
     ]
    }
   ],
   "source": [
<<<<<<< HEAD
    "print('¿Por qué esta magnífica tecnología científica,')\n",
    "print('\\tque ahorra trabajo y nos hace la vida más fácil,')\n",
    "print('\\t\\tnos aporta tan poca felicidad?')\n",
    "print('\\t\\t\\tLa respuesta es está, simplemente: porque aún no hemos aprendido a usarla con tino.\\n')\n",
    "print('\"Albert Einstein\"')\n"
=======
    "# Utilizamos tanto tabulador \"\\t\" como salto de línea \"\\n\"\n",
    "\n",
    "print(\"¿Por qué esta magnífica tecnología científica,\\n\\tque ahorra trabajo y nos hace la vida más fácil,\\n\\t\\t nos aporta tan poca felicidad?\")\n",
    "print(\"\\t\\t\\tLa respuesta es está, simplemente: porque aún no hemos aprendido a usarla con tino.\")\n",
    "print(\"\\n\\\"Albert Einstein\\\"\")"
>>>>>>> upstream/main
   ]
  },
  {
   "cell_type": "markdown",
   "metadata": {},
   "source": [
    "## Ejercicio 2 | Python\n",
    "1. Escribe el nombre de la calle de tu domicilio en una variable\n",
    "2. Escribe el numero de la calle en otra\n",
    "3. Ciudad en una tercera\n",
    "4. Codigo postal en la cuarta variable\n",
    "5. Crea una quinta variable que concatene todas ellas\n",
    "6. Imprimela por pantalla"
   ]
  },
  {
   "cell_type": "code",
<<<<<<< HEAD
   "execution_count": 25,
=======
   "execution_count": 13,
   "metadata": {},
   "outputs": [],
   "source": [
    "nombrecalle = \"Calle Pajares\"\n",
    "numerocalle = \"28\"\n",
    "ciudad = \"Madrid\"\n",
    "codigopostal = \"28400\""
   ]
  },
  {
   "cell_type": "code",
   "execution_count": 14,
>>>>>>> upstream/main
   "metadata": {},
   "outputs": [
    {
     "name": "stdout",
     "output_type": "stream",
     "text": [
<<<<<<< HEAD
      "Felix Rodriguez de la Fuente 2, Madrid, 28670\n"
=======
      "Calle Pajares, 28, Madrid, 28400\n"
>>>>>>> upstream/main
     ]
    }
   ],
   "source": [
<<<<<<< HEAD
    "#1\n",
    "calle = \"Felix Rodriguez de la Fuente\"\n",
    "#2\n",
    "numero = \"2\"\n",
    "#3\n",
    "ciudad = \"Madrid\"\n",
    "#4\n",
    "codigo_postal = \"28670\"\n",
    "#5\n",
    "direccion_completa = calle + \" \" + numero + \", \" + ciudad + \", \" + codigo_postal\n",
    "#6\n",
    "print(direccion_completa)\n"
=======
    "# Con f-string, que es la solución más común\n",
    "\n",
    "concatenacion = f\"{nombrecalle}, {numerocalle}, {ciudad}, {codigopostal}\"\n",
    "print(concatenacion)"
   ]
  },
  {
   "cell_type": "code",
   "execution_count": 12,
   "metadata": {},
   "outputs": [
    {
     "name": "stdout",
     "output_type": "stream",
     "text": [
      "Calle Pajares, 28, Madrid, 28400\n"
     ]
    }
   ],
   "source": [
    "# Podemos utilizar %s también\n",
    "\n",
    "concatenacion = \"%s, %s, %s, %s\" %(nombrecalle, numerocalle, ciudad, codigopostal)\n",
    "print(concatenacion)"
>>>>>>> upstream/main
   ]
  },
  {
   "cell_type": "markdown",
   "metadata": {},
   "source": [
    "## Ejercicio 3 | Python\n",
    "Replica el output del ejercicio dos, pero está vez sin usar una variable intermedia que concatene todas las demas. Realiza este ejercicio en una línea, con un  único `print`"
   ]
  },
  {
   "cell_type": "code",
<<<<<<< HEAD
   "execution_count": 26,
=======
   "execution_count": 14,
>>>>>>> upstream/main
   "metadata": {},
   "outputs": [
    {
     "name": "stdout",
     "output_type": "stream",
     "text": [
<<<<<<< HEAD
      "Felix Rodriguez de la Fuente 2 Madrid 28670\n"
=======
      "Calle Pajares, 28, Madrid, 28400\n"
>>>>>>> upstream/main
     ]
    }
   ],
   "source": [
<<<<<<< HEAD
    "print(\"Felix Rodriguez de la Fuente\",\"2\",\"Madrid\",\"28670\")"
=======
    "print(nombrecalle +\", \"+numerocalle +\", \"+ciudad+\", \"+codigopostal)"
   ]
  },
  {
   "cell_type": "code",
   "execution_count": 15,
   "metadata": {},
   "outputs": [
    {
     "name": "stdout",
     "output_type": "stream",
     "text": [
      "Calle Pajares 28 Madrid 28400\n"
     ]
    }
   ],
   "source": [
    "print(f\"{nombrecalle} {numerocalle} {ciudad} {codigopostal}\")"
>>>>>>> upstream/main
   ]
  },
  {
   "cell_type": "markdown",
   "metadata": {},
   "source": [
    "## Ejercicio 4 | Python\n",
    "Realiza un conversor de grados Celsius a Fahrenheit. El conversor tiene que recibir el input del usuario y devolver la conversión.\n",
    "\n",
    "La conversión de grados sigue la siguiente fórmula: F = C × (9 / 5) + 32 "
   ]
  },
  {
   "cell_type": "code",
<<<<<<< HEAD
   "execution_count": 27,
   "metadata": {},
   "outputs": [
    {
     "ename": "ValueError",
     "evalue": "could not convert string to float: ''",
     "output_type": "error",
     "traceback": [
      "\u001b[1;31m---------------------------------------------------------------------------\u001b[0m",
      "\u001b[1;31mValueError\u001b[0m                                Traceback (most recent call last)",
      "Cell \u001b[1;32mIn[27], line 1\u001b[0m\n\u001b[1;32m----> 1\u001b[0m celsius \u001b[38;5;241m=\u001b[39m \u001b[38;5;28;43mfloat\u001b[39;49m\u001b[43m(\u001b[49m\u001b[38;5;28;43minput\u001b[39;49m\u001b[43m(\u001b[49m\u001b[38;5;124;43m\"\u001b[39;49m\u001b[38;5;124;43mIntroduce los grados Celsius: \u001b[39;49m\u001b[38;5;124;43m\"\u001b[39;49m\u001b[43m)\u001b[49m\u001b[43m)\u001b[49m\n\u001b[0;32m      3\u001b[0m fahrenheit \u001b[38;5;241m=\u001b[39m celsius \u001b[38;5;241m*\u001b[39m (\u001b[38;5;241m9\u001b[39m \u001b[38;5;241m/\u001b[39m \u001b[38;5;241m5\u001b[39m) \u001b[38;5;241m+\u001b[39m \u001b[38;5;241m32\u001b[39m\n\u001b[0;32m      5\u001b[0m \u001b[38;5;28mprint\u001b[39m(\u001b[38;5;124mf\u001b[39m\u001b[38;5;124m\"\u001b[39m\u001b[38;5;132;01m{\u001b[39;00mcelsius\u001b[38;5;132;01m}\u001b[39;00m\u001b[38;5;124m grados Celsius son \u001b[39m\u001b[38;5;132;01m{\u001b[39;00mfahrenheit\u001b[38;5;132;01m}\u001b[39;00m\u001b[38;5;124m grados Fahrenheit.\u001b[39m\u001b[38;5;124m\"\u001b[39m)\n",
      "\u001b[1;31mValueError\u001b[0m: could not convert string to float: ''"
=======
   "execution_count": 67,
   "metadata": {},
   "outputs": [
    {
     "name": "stdout",
     "output_type": "stream",
     "text": [
      "37.4\n"
>>>>>>> upstream/main
     ]
    }
   ],
   "source": [
<<<<<<< HEAD
    "\n",
    "celsius = float(input(\"Introduce los grados Celsius: \"))\n",
    "\n",
    "fahrenheit = celsius * (9 / 5) + 32\n",
    "\n",
    "print(f\"{celsius} grados Celsius son {fahrenheit} grados Fahrenheit.\")\n"
=======
    "celsius = input(\"Celsius = \")\n",
    "far = float(celsius) * (9/5) + 32\n",
    "print(f\"Fahrenheit = {far}\")"
>>>>>>> upstream/main
   ]
  },
  {
   "cell_type": "markdown",
   "metadata": {},
   "source": [
    "## Ejercicio 5 | Python\n",
    "* Crea dos variables numericas: un `int` y un `float`\n",
    "* Comprueba sus tipos\n",
    "* Sumalas en otra nueva\n",
    "* Elimina las dos primeras variables creadas"
   ]
  },
  {
   "cell_type": "code",
<<<<<<< HEAD
   "execution_count": null,
   "metadata": {},
   "outputs": [],
   "source": [
    "n_int = 5\n",
    "n_float = 3.5\n",
    "\n",
    "print(type(n_int))\n",
    "print(type(n_float))\n",
    "\n",
    "suma = n_int + n_float\n",
    "print(f\"La suma de {n_int} y {n_float} es {suma}\")\n",
    "\n",
    "del n_int\n",
    "del n_float"
=======
   "execution_count": 17,
   "metadata": {},
   "outputs": [],
   "source": [
    "i = 40\n",
    "flo = 40.5\n",
    "suma = flo + float(i)\n",
    "del(i,flo)"
   ]
  },
  {
   "cell_type": "code",
   "execution_count": 18,
   "metadata": {},
   "outputs": [
    {
     "name": "stdout",
     "output_type": "stream",
     "text": [
      "<class 'int'>\n",
      "<class 'float'>\n",
      "La suma es: 15.75\n"
     ]
    }
   ],
   "source": [
    "numero_int = 10\n",
    "numero_float = 5.75\n",
    "print(type(numero_int))\n",
    "print(type(numero_float))\n",
    "suma = numero_int + numero_float\n",
    "print(f\"La suma es:\", suma)\n",
    "del numero_float\n",
    "del numero_int"
>>>>>>> upstream/main
   ]
  },
  {
   "cell_type": "markdown",
   "metadata": {},
   "source": [
    "## Ejercicio 6 | Python\n",
    "Escribe un programa para pasar de grados a radianes. Hay que usar `input`, así como la librería ``math``. Recuerda que la conversión se realiza mediante\n",
    "\n",
    "$$ radianes = grados * \\frac{\\pi}{180} $$"
   ]
  },
  {
   "cell_type": "code",
<<<<<<< HEAD
   "execution_count": 11,
=======
   "execution_count": 20,
>>>>>>> upstream/main
   "metadata": {},
   "outputs": [
    {
     "name": "stdout",
     "output_type": "stream",
     "text": [
<<<<<<< HEAD
      "34.0 grados son 0.5934119456780721 radianes.\n"
=======
      "6.0 grados equivalen a 0.1 radianes.\n"
>>>>>>> upstream/main
     ]
    }
   ],
   "source": [
    "import math\n",
<<<<<<< HEAD
    "\n",
    "grados = float(input(\"Introduce los grados: \"))\n",
    "\n",
    "radianes = grados * (math.pi / 180)\n",
    "\n",
    "print(f\"{grados} grados son {radianes} radianes.\")\n"
=======
    "grados = float(input(\"Escribe el numero en radianes: \"))\n",
    "radianes = grados * (math.pi / 180)\n",
    "\n",
    "# redondeamos\n",
    "radianes = round(radianes, 2)\n",
    "print(f\"{grados} grados equivalen a {radianes} radianes.\")"
>>>>>>> upstream/main
   ]
  },
  {
   "cell_type": "markdown",
   "metadata": {},
   "source": [
    "## Ejercicio 7 | Python\n",
    "Escribe un programa que calcule el area de un paralelogramo (base x altura). Utiliza `input`."
   ]
  },
  {
   "cell_type": "code",
<<<<<<< HEAD
   "execution_count": null,
   "metadata": {},
   "outputs": [],
   "source": [
    "base = float(input(\"Introduce la base del paralelogramo: \"))\n",
    "altura = float(input(\"Introduce la altura del paralelogramo: \"))\n",
    "\n",
    "area = base * altura\n",
    "\n",
    "print(f\"El área del paralelogramo es: {area}\")\n"
=======
   "execution_count": 63,
   "metadata": {},
   "outputs": [
    {
     "name": "stdout",
     "output_type": "stream",
     "text": [
      "9\n"
     ]
    }
   ],
   "source": [
    "a = int(input(\"Introduce área: \"))\n",
    "b = int(input(\"Introduce base: \"))\n",
    "\n",
    "area = a * b\n",
    "print(\"El área del rectángulo es: \", area)"
>>>>>>> upstream/main
   ]
  },
  {
   "cell_type": "markdown",
   "metadata": {},
   "source": [
    "## Ejercicio 8 | Markdown\n",
    "\n",
    "Escribe, en Markdwon, la siguiente tabla:\n",
    "\n",
    "![imagen](./img/table.jpg)"
   ]
  },
  {
   "cell_type": "markdown",
   "metadata": {},
   "source": [
<<<<<<< HEAD
    "| A     | B     | A AND B | A OR B | NOT A  |\n",
    "|-------|-------|---------|--------|--------|\n",
    "| False | False | False   | False  | True   |\n",
    "| False | True  | False   | True   | True   |\n",
    "| True  | False | False   | True   | False  |\n",
    "| True  | True  | True    | True   | False  |"
=======
    "|   A   |   B   | A AND B | A OR B | NOT A |\n",
    "|-------|-------|---------|--------|-------|\n",
    "| False | False | False   |False   |True   |\n",
    "| False | True  | False   |True    |True   |\n",
    "| True  | False | False   |True    |False  |\n",
    "| True  | True  | True    |True    |False  |\n"
>>>>>>> upstream/main
   ]
  },
  {
   "cell_type": "markdown",
   "metadata": {},
   "source": [
    "## Ejercicio 9 | Python\n",
    "Tenemos las siguientes variables:\n",
    "\n",
    "```Python\n",
    "A = 4\n",
    "B = \"Text\"\n",
    "C = 4.1\n",
    "```\n",
    "\n",
    "Comprueba:\n",
    "1. Si A y B son equivalentes\n",
    "2. Si A y C NO son equivalentes\n",
    "3. Si A es mayor que C \n",
    "4. Si C es menor o igual que A\n",
    "5. Si B NO es equivalente a C"
   ]
  },
  {
   "cell_type": "code",
<<<<<<< HEAD
   "execution_count": 13,
=======
   "execution_count": 23,
>>>>>>> upstream/main
   "metadata": {},
   "outputs": [
    {
     "name": "stdout",
     "output_type": "stream",
     "text": [
      "False\n",
      "True\n",
      "False\n",
      "False\n",
      "True\n"
     ]
    }
   ],
   "source": [
    "A = 4\n",
    "B = \"Text\"\n",
    "C = 4.1\n",
    "\n",
    "print(A == B)  \n",
<<<<<<< HEAD
    "\n",
    "# False, A es un número y B es una cadena de texto\n",
    "\n",
    "print(A != C)  \n",
    "\n",
    "# True, A es un entero y C es un flotante\n",
    "\n",
    "print(A > C)   \n",
    "\n",
    "# False, A es 4 y C es 4.1, así que A no es mayor que C\n",
    "\n",
    "print(C <= A)  \n",
    "\n",
    "# False, C (4.1) no es menor ni igual a A (4)\n",
    "\n",
    "print(B != C) \n",
    "\n",
    " # True, B es un string y C es un flotante\n"
=======
    "print(A != C) \n",
    "print(A > C)   \n",
    "print(C <= A)  \n",
    "print(B != C)"
>>>>>>> upstream/main
   ]
  },
  {
   "cell_type": "markdown",
   "metadata": {},
   "source": [
    "## Ejercicio 10 | Python\n",
    "Crea un programa donde se recojan tres inputs del usuario - con ``input``-, y que el output del programa nos indique_\n",
    "- si todos los inputs introducidos por el usuario son iguales o no\n",
    "- si al menos dos inputs introducidos por el usuario sí que son iguales"
   ]
  },
  {
   "cell_type": "code",
<<<<<<< HEAD
   "execution_count": 16,
=======
   "execution_count": 24,
>>>>>>> upstream/main
   "metadata": {},
   "outputs": [
    {
     "name": "stdout",
     "output_type": "stream",
     "text": [
<<<<<<< HEAD
      "No todos los inputs son iguales.\n",
      "No hay inputs iguales.\n"
=======
      "Todos son iguales =  True\n",
      "Dos son iguales =  True\n"
>>>>>>> upstream/main
     ]
    }
   ],
   "source": [
<<<<<<< HEAD
    "\n",
    "input1 = input(\"Introduce el primer valor: \")\n",
    "input2 = input(\"Introduce el segundo valor: \")\n",
    "input3 = input(\"Introduce el tercer valor: \")\n",
    "\n",
    "todos_iguales = (input1 == input2 == input3)\n",
    "\n",
    "al_menos_dos_iguales = (input1 == input2) or (input1 == input3) or (input2 == input3)\n",
    "\n",
    "if todos_iguales:\n",
    "    print(\"Todos los inputs son iguales.\")\n",
    "else:\n",
    "    print(\"No todos los inputs son iguales.\")\n",
    "\n",
    "if al_menos_dos_iguales:\n",
    "    print(\"Al menos dos inputs son iguales.\")\n",
    "else:\n",
    "    print(\"No hay inputs iguales.\")\n"
=======
    "b = input()\n",
    "a = input()\n",
    "c = input()\n",
    "\n",
    "print(\"Todos son iguales = \",a == c and c == b and b == a)\n",
    "print(\"Dos son iguales = \",a == c or c == b and b == a) "
>>>>>>> upstream/main
   ]
  },
  {
   "cell_type": "markdown",
   "metadata": {},
   "source": [
    "## Ejercicio 11 | Python\n",
    "Comprueba:\n",
    "- si el resto de dividir 7 entre 3 es 2\n",
    "- si el tipo de ``'10'`` es igual al tipo de `` 10``\n",
    "- si el integer de ``9.8`` es igual a ``10``"
   ]
  },
  {
   "cell_type": "code",
<<<<<<< HEAD
   "execution_count": 19,
=======
   "execution_count": 27,
>>>>>>> upstream/main
   "metadata": {},
   "outputs": [
    {
     "name": "stdout",
     "output_type": "stream",
     "text": [
      "El resto de dividir 7 entre 3 es 2: False\n",
      "El tipo de '10' es igual al tipo de 10: False\n",
      "El integer de 9.8 es igual a 10: False\n"
     ]
    }
   ],
   "source": [
<<<<<<< HEAD
    "\n",
    "resto_division = (7 % 3 == 2)\n",
    "tipo_igual = (type('10') == type(10))\n",
    "integer_igual = (int(9.8) == 10)\n",
    "\n",
    "# Resultados\n",
    "print(\"El resto de dividir 7 entre 3 es 2:\", resto_division)\n",
    "print(\"El tipo de '10' es igual al tipo de 10:\", tipo_igual)\n",
    "print(\"El integer de 9.8 es igual a 10:\", integer_igual)\n",
    "    "
=======
    "operacion1 = 7 % 3 == 2\n",
    "operacion2 = type('10') == type(10)\n",
    "operacion3 = int(9.8) == 10\n",
    "\n",
    "print(f\"El resto de dividir 7 entre 3 es 2: {operacion1}\")\n",
    "print(f\"El tipo de '10' es igual al tipo de 10: {operacion2}\")\n",
    "print(f\"El integer de 9.8 es igual a 10: {operacion3}\")"
>>>>>>> upstream/main
   ]
  },
  {
   "cell_type": "markdown",
   "metadata": {},
   "source": [
    "## Ejercicio 12 | Python\n",
    "Crea un programa que recoja el número de años en una variable llamada ``years``. El output del programa debe ser el número de segundos que han transcurrido en esos años. \n",
    "\n",
    "¿Cuántos segundos han transcurrido en 25 años?"
   ]
  },
  {
   "cell_type": "code",
<<<<<<< HEAD
   "execution_count": 20,
=======
   "execution_count": 29,
>>>>>>> upstream/main
   "metadata": {},
   "outputs": [
    {
     "name": "stdout",
     "output_type": "stream",
     "text": [
<<<<<<< HEAD
      "El número de segundos en 25 años es: 788400000\n"
=======
      "Han transcurrido 788,400,000 segundos en 25 años.\n"
>>>>>>> upstream/main
     ]
    }
   ],
   "source": [
<<<<<<< HEAD
    "years = int(input(\"Introduce el número de años: \"))\n",
    "\n",
    "seconds = years * 365 * 24 * 60 * 60\n",
    "\n",
    "print(f\"El número de segundos en {years} años es: {seconds}\")\n"
=======
    "years = 25 # int(input('Introduce tu año))\n",
    "\n",
    "segundosAño = 365 * 24 * 60 * 60 \n",
    "segundosTotales = years * segundosAño\n",
    "\n",
    "# Formateamos los segundos totales con separador de miles por legibilidad\n",
    "print(f\"Han transcurrido {'{:,}'.format(segundosTotales)} segundos en {years} años.\")"
>>>>>>> upstream/main
   ]
  },
  {
   "cell_type": "markdown",
   "metadata": {},
   "source": [
    "## Ejercicio 13 | Python\n",
    "Para este ejercicio vamos a poner en práctica [las funciones built in](https://docs.python.org/3/library/functions.html).\n",
    "\n",
    "1. Calcula el máximo de la lista: [4, 6, 8, -1]\n",
    "2. Suma todos los elementos de la lista anterior\n",
    "3. Redondea este float a 3 dígitos decimales: 63.451256965\n",
    "4. Valor absoluto de: -74"
   ]
  },
  {
   "cell_type": "code",
<<<<<<< HEAD
   "execution_count": null,
   "metadata": {},
   "outputs": [],
   "source": [
    "#1\n",
    "numbers = [4, 6, 8, -1]\n",
    "maximo = max(numbers)\n",
    "#2\n",
    "suma_total = sum(numbers)\n",
    "#3\n",
    "float_value = 63.451256965\n",
    "redondeado = round(float_value, 3)\n",
    "#4\n",
    "valor_absoluto = abs(-74)\n",
    "\n",
    "print(f\"El máximo de la lista es: {maximo}\")\n",
    "print(f\"La suma de los elementos de la lista es: {suma_total}\")\n",
    "print(f\"El valor redondeado a 3 dígitos decimales es: {redondeado}\")\n",
    "print(f\"El valor absoluto de -74 es: {valor_absoluto}\")\n"
=======
   "execution_count": 30,
   "metadata": {},
   "outputs": [
    {
     "name": "stdout",
     "output_type": "stream",
     "text": [
      "1) Máximo de la lista: 8\n",
      "2) Suma de la lista: 17\n",
      "3) Float redondeado a 3 dígitos: 63.451\n",
      "Valor absoluto de -74: 74\n"
     ]
    }
   ],
   "source": [
    "lista = [4, 6, 8, -1]\n",
    "\n",
    "# 1\n",
    "maximo = max(lista)\n",
    "print(f\"1) Máximo de la lista: {maximo}\")\n",
    "\n",
    "# 2\n",
    "suma = sum(lista)\n",
    "print(f\"2) Suma de la lista: {suma}\")\n",
    "\n",
    "# 3\n",
    "float = 63.451256965\n",
    "redondear = round(float, 3)\n",
    "print(f\"3) Float redondeado a 3 dígitos: {redondear}\")\n",
    "\n",
    "# 4\n",
    "valorAbsoluto = abs(-74) \n",
    "print(f\"4) Valor absoluto de -74: {valorAbsoluto}\")"
   ]
  },
  {
   "cell_type": "code",
   "execution_count": 31,
   "metadata": {},
   "outputs": [
    {
     "data": {
      "text/plain": [
       "74.0"
      ]
     },
     "execution_count": 31,
     "metadata": {},
     "output_type": "execute_result"
    }
   ],
   "source": [
    "# Alternativa para el 4º apartado\n",
    "\n",
    "import math\n",
    "math.fabs(-74)"
>>>>>>> upstream/main
   ]
  },
  {
   "cell_type": "markdown",
   "metadata": {},
   "source": [
    "## Ejercicio 14 | Python\n",
    "Para el siguiente string se pide imprimir por pantalla los siguientes casos\n",
    "\n",
    "    \"A quien madruga, dios le ayuda\"\n",
    "\n",
    "1. Pasarlo todo a mayusculas\n",
    "2. Pasarlo todo a minusculas\n",
    "3. Pasar a mayusculas solo las iniciales de las palabras\n",
    "4. Crea una lista dividiendolo por sus espacios\n",
    "5. Sustituye las comas `,` por puntos y comas `;`\n",
    "6. Elimina las `a` minusculas"
   ]
  },
  {
   "cell_type": "code",
<<<<<<< HEAD
   "execution_count": 21,
=======
   "execution_count": 42,
>>>>>>> upstream/main
   "metadata": {},
   "outputs": [
    {
     "name": "stdout",
     "output_type": "stream",
     "text": [
<<<<<<< HEAD
      "Todo en mayúsculas: A QUIEN MADRUGA, DIOS LE AYUDA\n",
      "Todo en minúsculas: a quien madruga, dios le ayuda\n",
      "Iniciales de las palabras en mayúsculas: A Quien Madruga, Dios Le Ayuda\n",
      "Lista dividida por espacios: ['A', 'quien', 'madruga,', 'dios', 'le', 'ayuda']\n",
      "Texto con comas sustituidas por puntos y comas: A quien madruga; dios le ayuda\n",
      "Texto sin 'a' minúsculas: A quien mdrug, dios le yud\n"
=======
      "1 A QUIEN MADRUGA, DIOS LE AYUDA\n",
      "2 a quien madruga, dios le ayuda\n",
      "3 A Quien Madruga, Dios Le Ayuda\n",
      "4 ['A', 'quien', 'madruga,', 'dios', 'le', 'ayuda']\n",
      "5 A quien madruga; dios le ayuda\n",
      "6 A quien mdrug, dios le yud\n"
>>>>>>> upstream/main
     ]
    }
   ],
   "source": [
<<<<<<< HEAD
    "texto = \"A quien madruga, dios le ayuda\"\n",
    "\n",
    "#1\n",
    "texto_mayusculas = texto.upper()\n",
    "print(\"Todo en mayúsculas:\", texto_mayusculas)\n",
    "#2\n",
    "texto_minusculas = texto.lower()\n",
    "print(\"Todo en minúsculas:\", texto_minusculas)\n",
    "#3\n",
    "texto_iniciales_mayus = texto.title()\n",
    "print(\"Iniciales de las palabras en mayúsculas:\", texto_iniciales_mayus)\n",
    "#4\n",
    "lista_dividida = texto.split()\n",
    "print(\"Lista dividida por espacios:\", lista_dividida)\n",
    "#5\n",
    "texto_sustituido = texto.replace(',', ';')\n",
    "print(\"Texto con comas sustituidas por puntos y comas:\", texto_sustituido)\n",
    "#6\n",
    "texto_sin_a = texto.replace('a', '')\n",
    "print(\"Texto sin 'a' minúsculas:\", texto_sin_a)\n"
=======
    "frase = \"A quien madruga, dios le ayuda\"\n",
    "\n",
    "# 1\n",
    "print(1, frase.upper())\n",
    "\n",
    "# 2\n",
    "print(2, frase.lower())\n",
    "\n",
    "# 3\n",
    "print(3, frase.title())\n",
    "\n",
    "# 4\n",
    "frase_split = frase.split()\n",
    "print(4, frase_split)\n",
    "\n",
    "# 5\n",
    "replacing = frase.replace(\",\", \";\")\n",
    "print(5, replacing)\n",
    "\n",
    "# 6\n",
    "replacing = frase.replace(\"a\", \"\")\n",
    "print(6, replacing)"
>>>>>>> upstream/main
   ]
  },
  {
   "cell_type": "markdown",
   "metadata": {},
   "source": [
    "## Ejercicio 15 | Python\n",
    "1. Crea una lista con 3 elementos numéricos\n",
    "2. Añade un cuarto elemento\n",
    "3. Calcula la suma de todos\n",
    "4. Elimina el segundo elemento de la lista\n",
    "5. Añade otro elemento en la posicion 3 de la lista\n",
    "6. Crea otra lista con 4 elementos y concaténala a la que ya tenías."
   ]
  },
  {
   "cell_type": "code",
<<<<<<< HEAD
   "execution_count": 22,
=======
   "execution_count": 57,
>>>>>>> upstream/main
   "metadata": {},
   "outputs": [
    {
     "name": "stdout",
     "output_type": "stream",
     "text": [
<<<<<<< HEAD
      "Lista inicial: [5, 10, 15]\n",
      "Lista después de añadir el cuarto elemento: [5, 10, 15, 20]\n",
      "Suma de todos los elementos: 50\n",
      "Lista después de eliminar el segundo elemento: [5, 15, 20]\n",
      "Lista después de añadir otro elemento en la posición 3: [5, 15, 25, 20]\n",
      "Lista final después de concatenar: [5, 15, 25, 20, 30, 35, 40, 45]\n"
=======
      "1 [1, 2, 3]\n",
      "1 Esta variable es de tipo: <class 'list'>\n",
      "1 Esta lista tiene 3 elementos\n",
      "\n",
      " 2 [1, 2, 3, 4]\n",
      "3 La suma de todos los elementos es de 10\n",
      "4 [2, 3, 4]\n",
      "5 [2, 3, 4, 5]\n",
      "6 [2, 3, 4, 5, 6, 7, 8, 9]\n"
>>>>>>> upstream/main
     ]
    }
   ],
   "source": [
<<<<<<< HEAD
    "#1\n",
    "lista_numeros = [25, 12, 69]\n",
    "print(\"Lista inicial:\", lista_numeros)\n",
    "#2\n",
    "lista_numeros.append(43)\n",
    "print(\"Lista después de añadir el cuarto elemento:\", lista_numeros)\n",
    "#3\n",
    "suma_total = sum(lista_numeros)\n",
    "print(\"Suma de todos los elementos:\", suma_total)\n",
    "#4\n",
    "del lista_numeros[1]\n",
    "print(\"Lista después de eliminar el segundo elemento:\", lista_numeros)\n",
    "#5\n",
    "lista_numeros.insert(2, 25)\n",
    "print(\"Lista después de añadir otro elemento en la posición 3:\", lista_numeros)\n",
    "#6\n",
    "otra_lista = [30, 35, 40, 45]\n",
    "lista_numeros += otra_lista\n",
    "print(\"Lista final después de concatenar:\", lista_numeros)\n"
=======
    "# 1\n",
    "lista = [1,2,3]\n",
    "print(1, lista)\n",
    "print(1, f\"Esta variable es de tipo: {type(lista)}\")\n",
    "print(1, f\"Esta lista tiene {len(lista)} elementos\")\n",
    "\n",
    "# 2\n",
    "lista.append(4)\n",
    "print('\\n', 2, lista)\n",
    "\n",
    "# 3\n",
    "suma = sum(lista)\n",
    "print(3, f\"La suma de todos los elementos es de {suma}\")\n",
    "\n",
    "# 4\n",
    "lista.remove(1)\n",
    "print(4, lista)\n",
    "\n",
    "# 5\n",
    "lista.insert(3, 5)\n",
    "print(5, lista)\n",
    "\n",
    "# 6\n",
    "lista_concat = lista + [6,7,8,9]\n",
    "print(6, lista_concat)"
>>>>>>> upstream/main
   ]
  },
  {
   "cell_type": "markdown",
   "metadata": {},
   "source": [
    "-----------------\n",
    "\n",
    "Recuerda entregar el notebook en formato html. Puedes hacerlo con la librería \"nbconvert\" desde el cmd en la ruta del documento que quieres transformar de ipynb a html:\n",
    "\n",
    "> jupyter nbconvert --to html --execute examen_basics.ipynb\n"
   ]
  }
 ],
 "metadata": {
  "kernelspec": {
   "display_name": "Python 3",
   "language": "python",
   "name": "python3"
  },
  "language_info": {
   "codemirror_mode": {
    "name": "ipython",
    "version": 3
   },
   "file_extension": ".py",
   "mimetype": "text/x-python",
   "name": "python",
   "nbconvert_exporter": "python",
   "pygments_lexer": "ipython3",
<<<<<<< HEAD
   "version": "3.12.6"
=======
   "version": "3.7.4"
>>>>>>> upstream/main
  }
 },
 "nbformat": 4,
 "nbformat_minor": 2
}
