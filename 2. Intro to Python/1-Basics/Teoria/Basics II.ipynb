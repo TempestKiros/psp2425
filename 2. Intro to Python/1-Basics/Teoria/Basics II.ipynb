{
 "cells": [
  {
   "cell_type": "markdown",
   "metadata": {},
   "source": [
    "![imagen](./img/python.jpg)"
   ]
  },
  {
   "cell_type": "markdown",
   "metadata": {},
   "source": [
    "# Python Basics II\n",
    "\n",
    "Ya hemos visto cómo declarar variables, qué tipos hay, y otras funcionalidades importantes de Python como sus flujos de ejecución o las formas que tenemos de comentar el código. En este Notebook aprenderás a realizar **operaciones con tus variables** y descubrirás las colecciones mediante uno de los objetos más usados en Python: **las listas**.\n",
    "\n",
    "1. [Operaciones aritméticas](#1.-Operaciones-aritméticas)\n",
    "2. [Operaciones comparativas](#2.-Operaciones-comparativas)\n",
    "3. [Operaciones con booleanos](#3.-Operaciones-con-booleanos)\n",
    "4. [Funciones *Built-in*](#4.-Funciones-Built-in)\n",
    "5. [Métodos](#5.-Métodos)\n",
    "6. [Listas](#6.-Listas)\n",
    "7. [Resumen](#7.-Resumen)"
   ]
  },
  {
   "cell_type": "markdown",
   "metadata": {},
   "source": [
    "## 1. Operaciones aritméticas\n",
    "En el Notebook *Python Basics I* ya vimos por encima las principales operaciones aritméticas en Python. Las recordamos:\n",
    "* Sumar: `+`\n",
    "* Restar: `-`\n",
    "* Multiplicar: `*`\n",
    "* Dividir: `/`\n",
    "* Elevar: `**`\n",
    "* Cociente division: `//`\n",
    "* Resto de la división: `%`"
   ]
  },
  {
   "cell_type": "markdown",
   "metadata": {},
   "source": [
    "<table align=\"left\">\n",
    " <tr><td width=\"80\"><img src=\"./img/ejercicio.png\" style=\"width:auto;height:auto\"></td>\n",
    "     <td style=\"text-align:left\">\n",
    "         <h3>Ejercicio de operaciones aritméticas</h3>\n",
    "\n",
    "      \n",
    "<ol>\n",
    "    <li>Declara una variable int</li>\n",
    "    <li>Declara otra variable float.</li>\n",
    "    <li>Suma ambas variables. ¿Qué tipo de dato es el resultado?</li>\n",
    "    <li>Multiplica ambas variables</li>\n",
    "    <li>Eleva una variable a la potencia de la otra</li>\n",
    "    <li>Calcula el resto de dividir 12/5</li>\n",
    "</ol>\n",
    "         \n",
    " </td></tr>\n",
    "</table>"
   ]
  },
  {
   "cell_type": "code",
   "execution_count": 42,
   "metadata": {},
   "outputs": [
    {
     "name": "stdout",
     "output_type": "stream",
     "text": [
      "5\n",
      "2.5\n",
      "<class 'float'>\n",
      "12.5\n",
      "55.90169943749474\n",
      "25\n",
      "Cada amigo tiene que poner 25 euros\n",
      "Alguien se tiene que sacrificar y poner 3 euros más\n"
     ]
    }
   ],
   "source": [
    "# 1 Declaramos una variable int\n",
    "var_int = 5\n",
    "print(var_int)\n",
    "# 2 Declaramos una variable float\n",
    "var_float = 2.5\n",
    "print(var_float)\n",
    "# 3 Sumamos ambas variables\n",
    "resultado_suma = var_int + var_float\n",
    "print(type(resultado_suma))\n",
    "# 4 multiplicamos\n",
    "multiplicacion = var_int * var_float\n",
    "print(multiplicacion)\n",
    "# 5 elevamos una variable\n",
    "elvada = var_int ** var_float\n",
    "print(elvada)\n",
    "# 6 calculamos el resto\n",
    "\n",
    "\"\"\"\n",
    "Cinco amigos se van de viaje. Han puesto un total de 128 euros en gasolina.\n",
    "Cuanto debe de poner cada uno? No todos llevan moneditas, así que deciden \n",
    "que uno pondrá las moneditas, el amigo más generoso.\n",
    "\"\"\"\n",
    "\n",
    "aportacion_equitativa = 128//5 \n",
    "print(aportacion_equitativa)\n",
    "\n",
    "contribucion_extra = 128%5 \n",
    "\n",
    "# cuanto tiene que poner cada uno de los 5 amigos\n",
    "print(f'Cada amigo tiene que poner {aportacion_equitativa} euros')\n",
    "print(f'Alguien se tiene que sacrificar y poner {contribucion_extra} euros más')"
   ]
  },
  {
   "cell_type": "markdown",
   "metadata": {},
   "source": [
    "### Propiedad conmutativa, asociativa, distributiva y el paréntesis\n",
    "Si queremos concatenar varias operaciones, ten siempre en cuenta las propiedades matemáticas de la multiplicación"
   ]
  },
  {
   "cell_type": "code",
   "execution_count": 33,
   "metadata": {},
   "outputs": [
    {
     "name": "stdout",
     "output_type": "stream",
     "text": [
      "Conmutativa\n",
      "6\n",
      "6\n",
      "\n",
      "Asociativa\n",
      "16\n",
      "16\n",
      "\n",
      "Distributiva\n",
      "30\n",
      "30\n",
      "\n",
      "El Orden de operaciones se mantiene. Siempre podemos usar paréntesis\n",
      "50\n",
      "19\n"
     ]
    }
   ],
   "source": [
    "print(\"Conmutativa\")\n",
    "print(2 * 3)\n",
    "print(3 * 2)\n",
    "\n",
    "print(\"\\nAsociativa\") # Recuerda que \"\\n\" se usa para que haya un salto de linea en el output.\n",
    "print(2 * (3 + 5))\n",
    "print(2 * 3 + 2 * 5)\n",
    "\n",
    "print(\"\\nDistributiva\")\n",
    "print((3 * 2) * 5)\n",
    "print(3 * (2 * 5))\n",
    "\n",
    "print(\"\\nEl Orden de operaciones se mantiene. Siempre podemos usar paréntesis\")\n",
    "print(2 * (2 + 3) * 5)\n",
    "print((2 * 2 + 3 * 5))"
   ]
  },
  {
   "cell_type": "markdown",
   "metadata": {},
   "source": [
    "### Operaciones más complejas\n",
    "Si salimos de las operaciones básicas de Python, tendremos que importar módulos con más funcionalidades en nuestro código. Esto lo haremos mediante la sentencia `import math`. `math` es un módulo con funciones ya predefinidas, que no vienen por defecto en el núcleo de Python. De esta forma será posible hacer cálculos más complejos como:\n",
    "\n",
    "* Raíz cuadrada\n",
    "* Seno/Coseno\n",
    "* Valor absoluto\n",
    "*...\n",
    "\n",
    "El módulo es completísimo y si estás buscando alguna operación matemática, lo más seguro es que ya esté implementada. Te dejo por aquí el [link a la documentación del módulo.](https://docs.python.org/3/library/math.html)."
   ]
  },
  {
   "cell_type": "code",
   "execution_count": 34,
   "metadata": {},
   "outputs": [],
   "source": [
    "import math"
   ]
  },
  {
   "cell_type": "code",
   "execution_count": 35,
   "metadata": {},
   "outputs": [
    {
     "data": {
      "text/plain": [
       "module"
      ]
     },
     "execution_count": 35,
     "metadata": {},
     "output_type": "execute_result"
    }
   ],
   "source": [
    "type(math)"
   ]
  },
  {
   "cell_type": "code",
   "execution_count": 41,
   "metadata": {},
   "outputs": [
    {
     "data": {
      "text/plain": [
       "5.0"
      ]
     },
     "execution_count": 41,
     "metadata": {},
     "output_type": "execute_result"
    }
   ],
   "source": [
    "25 ** (0.5)"
   ]
  },
  {
   "cell_type": "code",
   "execution_count": 40,
   "metadata": {},
   "outputs": [
    {
     "data": {
      "text/plain": [
       "5.0"
      ]
     },
     "execution_count": 40,
     "metadata": {},
     "output_type": "execute_result"
    }
   ],
   "source": [
    "math.sqrt(25)"
   ]
  },
  {
   "cell_type": "code",
   "execution_count": 38,
   "metadata": {},
   "outputs": [
    {
     "data": {
      "text/plain": [
       "0.1411200080598672"
      ]
     },
     "execution_count": 38,
     "metadata": {},
     "output_type": "execute_result"
    }
   ],
   "source": [
    "math.sin(3)"
   ]
  },
  {
   "cell_type": "code",
   "execution_count": 37,
   "metadata": {},
   "outputs": [
    {
     "data": {
      "text/plain": [
       "0.28366218546322625"
      ]
     },
     "execution_count": 37,
     "metadata": {},
     "output_type": "execute_result"
    }
   ],
   "source": [
    "math.cos(5)"
   ]
  },
  {
   "cell_type": "code",
   "execution_count": 42,
   "metadata": {},
   "outputs": [
    {
     "data": {
      "text/plain": [
       "5.0"
      ]
     },
     "execution_count": 42,
     "metadata": {},
     "output_type": "execute_result"
    }
   ],
   "source": [
    "math.fabs(-5)"
   ]
  },
  {
   "cell_type": "code",
   "execution_count": 53,
   "metadata": {},
   "outputs": [
    {
     "data": {
      "text/plain": [
       "5"
      ]
     },
     "execution_count": 53,
     "metadata": {},
     "output_type": "execute_result"
    }
   ],
   "source": [
    "abs(-5)"
   ]
  },
  {
   "cell_type": "markdown",
   "metadata": {},
   "source": [
    "Como en todos los lenguajes de programación, suele haber una serie de componentes básicos (variables, operaciones aritméticas, tipos de datos...) con los que podemos hacer muchas cosas. Ahora bien, si queremos ampliar esas funcionalidades, se suelen importar nuevos módulos, con funciones ya hechas de otros usuarios, como en el caso del módulo `math`. Veremos esto de los módulos más adelante."
   ]
  },
  {
   "cell_type": "markdown",
   "metadata": {},
   "source": [
    "<table align=\"left\">\n",
    " <tr><td width=\"80\"><img src=\"./img/error.png\" style=\"width:auto;height:auto\"></td>\n",
    "     <td style=\"text-align:left\">\n",
    "         <h3>ERRORES Dividir por cero</h3>\n",
    "         \n",
    " </td></tr>\n",
    "</table>"
   ]
  },
  {
   "cell_type": "markdown",
   "metadata": {},
   "source": [
    "Cuidado cuando operamos con 0s. Las indeterminaciones y valores infinitos suponen errores en el código. Por suerte, la descripción de estos errores es bastante explícita, obteniendo un error de tipo `ZeroDivisionError`"
   ]
  },
  {
   "cell_type": "code",
   "execution_count": 56,
   "metadata": {},
   "outputs": [
    {
     "ename": "ZeroDivisionError",
     "evalue": "division by zero",
     "output_type": "error",
     "traceback": [
      "\u001b[1;31m---------------------------------------------------------------------------\u001b[0m",
      "\u001b[1;31mZeroDivisionError\u001b[0m                         Traceback (most recent call last)",
      "\u001b[1;32m~\\AppData\\Local\\Temp\\ipykernel_10772\\1580332654.py\u001b[0m in \u001b[0;36m<module>\u001b[1;34m\u001b[0m\n\u001b[1;32m----> 1\u001b[1;33m \u001b[1;36m4\u001b[0m\u001b[1;33m/\u001b[0m\u001b[1;36m0\u001b[0m\u001b[1;33m\u001b[0m\u001b[1;33m\u001b[0m\u001b[0m\n\u001b[0m",
      "\u001b[1;31mZeroDivisionError\u001b[0m: division by zero"
     ]
    }
   ],
   "source": [
    "4/0"
   ]
  },
  {
   "cell_type": "code",
   "execution_count": 59,
   "metadata": {},
   "outputs": [
    {
     "data": {
      "text/plain": [
       "5.0"
      ]
     },
     "execution_count": 59,
     "metadata": {},
     "output_type": "execute_result"
    }
   ],
   "source": [
    "math.sqrt(abs(-25))"
   ]
  },
  {
   "cell_type": "markdown",
   "metadata": {},
   "source": [
    "<table align=\"left\">\n",
    " <tr><td width=\"80\"><img src=\"./img/ejercicio.png\" style=\"width:auto;height:auto\"></td>\n",
    "     <td style=\"text-align:left\">\n",
    "         <h3>Ejercicio de operaciones con math</h3>\n",
    "\n",
    "Consulta la documentación de math para resolver este ejercicio \n",
    "<ol>\n",
    "    <li>Calcula el valor absoluto de -25. Usa fabs</li>\n",
    "    <li>Redondea 4.7 a su entero más bajo. Usa floor</li>\n",
    "    <li>Redondea 4.3 a su entero más alto. Usa ceil</li>\n",
    "    <li>El número pi</li>\n",
    "    <li>¿Cuál es el área de un círculo de radio 3?</li>\n",
    "</ol>\n",
    "         \n",
    " </td></tr>\n",
    "</table>"
   ]
  },
  {
   "cell_type": "code",
   "execution_count": 67,
   "metadata": {},
   "outputs": [
    {
     "name": "stdout",
     "output_type": "stream",
     "text": [
      "25.0\n",
      "4\n",
      "5\n"
     ]
    },
    {
     "data": {
      "text/plain": [
       "28.274333882308138"
      ]
     },
     "execution_count": 67,
     "metadata": {},
     "output_type": "execute_result"
    }
   ],
   "source": [
    "# Para poner el número absoluto basta con 'abs'\n",
    "print(math.fabs(-25))\n",
    "\n",
    "# Para redondear para arriba y para abajo\n",
    "print(math.floor(4.7))\n",
    "print(math.ceil(4.7))\n",
    "\n",
    "# radio\n",
    "math.pi*(3**2)\n",
    "\n",
    "radio = 3\n",
    "math.pi * math.pow(radio, 2)\n",
    "math.pi * 3 ** 2\n"
   ]
  },
  {
   "cell_type": "markdown",
   "metadata": {},
   "source": [
    "## 2. Operaciones comparativas\n",
    "Es bastante intuitivo comparar valores en Python. La sintaxis es la siguiente:\n",
    "* `==`: Igualdad. No es un `=`. Hay que diferenciar entre una comparativa, y una asignación de valores\n",
    "* `!=`: Desigualdad\n",
    "* `>`: Mayor que\n",
    "* `<`: Menor que\n",
    "* `>=`: Mayor o igual que\n",
    "* `<=`: Menor o igual que"
   ]
  },
  {
   "cell_type": "code",
   "execution_count": 68,
   "metadata": {},
   "outputs": [
    {
     "name": "stdout",
     "output_type": "stream",
     "text": [
      "True\n",
      "False\n"
     ]
    }
   ],
   "source": [
    "asign = 1\n",
    "a = 1\n",
    "\n",
    "print(asign >= 1)\n",
    "print(a == 5)"
   ]
  },
  {
   "cell_type": "code",
   "execution_count": 73,
   "metadata": {},
   "outputs": [
    {
     "data": {
      "text/plain": [
       "False"
      ]
     },
     "execution_count": 73,
     "metadata": {},
     "output_type": "execute_result"
    }
   ],
   "source": [
    "atm = (1 == 5)\n",
    "atm"
   ]
  },
  {
   "cell_type": "markdown",
   "metadata": {},
   "source": [
    "En la asignación estamos diciendole a Python que la variable `asign` vale 1, mientras que en la comparación, estamos preguntando a Python si `a` equivale a 5. Como vale 1, nos devuelve un `False`"
   ]
  },
  {
   "cell_type": "code",
   "execution_count": 85,
   "metadata": {},
   "outputs": [
    {
     "name": "stdout",
     "output_type": "stream",
     "text": [
      "True\n",
      "False\n",
      "False\n",
      "False\n"
     ]
    }
   ],
   "source": [
    "# compare letters\n",
    "print('AAAA' == \"AAAA\")\n",
    "print('aaaa' == \"AAAA\")\n",
    "var_1 = 'aaaa' == 'AAAA'\n",
    "var_2 = ''\n",
    "print(var_2 == None)\n",
    "\n",
    "# compare integers and floats\n",
    "print(5 == 5.0001)"
   ]
  },
  {
   "cell_type": "code",
   "execution_count": 90,
   "metadata": {},
   "outputs": [
    {
     "name": "stdout",
     "output_type": "stream",
     "text": [
      "True\n",
      "True\n",
      "True\n"
     ]
    }
   ],
   "source": [
    "# Compare booleans and integers\n",
    "print(True == 1.0)\n",
    "print(False == 0)\n",
    "print(False != 100)"
   ]
  },
  {
   "cell_type": "markdown",
   "metadata": {},
   "source": [
    "<table align=\"left\">\n",
    " <tr><td width=\"80\"><img src=\"./img/error.png\" style=\"width:auto;height:auto\"></td>\n",
    "     <td style=\"text-align:left\">\n",
    "         <h3>ERRORES en comparativas</h3>\n",
    "         \n",
    " </td></tr>\n",
    "</table>"
   ]
  },
  {
   "cell_type": "markdown",
   "metadata": {},
   "source": [
    "Este tipo de errores son muy comunes, pues es muy habitual comparar peras con manzanas. Cuando se trata de una igualdad (`==`), no suele haber problemas, ya que si las variables son de distinto tipo, simplemente es `False`. Lo ideal sería que Python nos avisase de estas cosas porque realmente lo estamos haciendo mal, no estamos comparando cosas del mismo tipo"
   ]
  },
  {
   "cell_type": "code",
   "execution_count": 95,
   "metadata": {},
   "outputs": [
    {
     "ename": "TypeError",
     "evalue": "'>=' not supported between instances of 'int' and 'str'",
     "output_type": "error",
     "traceback": [
      "\u001b[1;31m---------------------------------------------------------------------------\u001b[0m",
      "\u001b[1;31mTypeError\u001b[0m                                 Traceback (most recent call last)",
      "\u001b[1;32m~\\AppData\\Local\\Temp\\ipykernel_10772\\3155086484.py\u001b[0m in \u001b[0;36m<module>\u001b[1;34m\u001b[0m\n\u001b[1;32m----> 1\u001b[1;33m \u001b[1;36m1\u001b[0m \u001b[1;33m>=\u001b[0m \u001b[1;34m'1'\u001b[0m\u001b[1;33m\u001b[0m\u001b[1;33m\u001b[0m\u001b[0m\n\u001b[0m",
      "\u001b[1;31mTypeError\u001b[0m: '>=' not supported between instances of 'int' and 'str'"
     ]
    }
   ],
   "source": [
    "1 >= '1'"
   ]
  },
  {
   "cell_type": "code",
   "execution_count": 91,
   "metadata": {},
   "outputs": [
    {
     "data": {
      "text/plain": [
       "False"
      ]
     },
     "execution_count": 91,
     "metadata": {},
     "output_type": "execute_result"
    }
   ],
   "source": [
    "# comparar elementos de distinto tipo\n",
    "\n",
    "False == ''"
   ]
  },
  {
   "cell_type": "code",
   "execution_count": 93,
   "metadata": {},
   "outputs": [
    {
     "data": {
      "text/plain": [
       "False"
      ]
     },
     "execution_count": 93,
     "metadata": {},
     "output_type": "execute_result"
    }
   ],
   "source": [
    "1 == '1'"
   ]
  },
  {
   "cell_type": "code",
   "execution_count": 92,
   "metadata": {},
   "outputs": [
    {
     "data": {
      "text/plain": [
       "False"
      ]
     },
     "execution_count": 92,
     "metadata": {},
     "output_type": "execute_result"
    }
   ],
   "source": [
    "True == 'clase'"
   ]
  },
  {
   "cell_type": "markdown",
   "metadata": {},
   "source": [
    "## 3. Operaciones con booleanos\n",
    "Todas las operaciones que realizabamos en el apartado anterior devolvían un tipo de dato concreto: un booleano. `True` o `False`. Pero ¿cómo harías si se tienen que cumplir 3 condiciones, o solo una de esas tres, o que no se cumplan 5 condiciones?\n",
    "Para este tipo de operaciones recurrimos al [*Álgebra de Boole*](https://es.wikipedia.org/wiki/%C3%81lgebra_de_Boole#:~:text=El%20%C3%A1lgebra%20de%20Boole%2C%20tambi%C3%A9n,que%20esquematiza%20las%20operaciones%20l%C3%B3gicas.). Se trata de una rama del álgebra que se utiliza en electrónica, pero que tiene un sin fin de aplicaciones, no solo téncicas, sino aplicables a la vida cotidiana. Estas matemáticas pueden llegar a ser muy complejas aún utilizando únicamente dos valores: `True` y `False`. Las operaciones más comunes son **AND, OR, NOT**.\n",
    "En las siguientes tablas tienes todos los posibles resultados de las puertas AND, OR, NOT, dependiendo de sus inputs.\n",
    "\n",
    "Puede parecer complejo pero a efectos prácticos, y sin meternos con otro tipo de puertas lógicas, te recomiendo seguir estas reglas:\n",
    "* **AND**: Se tienen que cumplir ambas condiciones para que sea un `True`\n",
    "* **OR**: Basta que se cumpla al menos una condicion para que sea `True`\n",
    "* **NOT**: Lo contrario de lo que haya\n",
    "\n",
    "Veamos un ejemplo práctico para aclarar estos conceptos. Imaginemos que queremos comprar un ordenador, pero nos cuesta decidirnos. \n",
    "\n",
    "[vídeo sobre algebra de boole](https://www.youtube.com/watch?v=u4VhsP-CZbY&ab_channel=ChristianToledo)"
   ]
  },
  {
   "cell_type": "code",
   "execution_count": 98,
   "metadata": {},
   "outputs": [],
   "source": [
    "# Primer ordenador\n",
    "ram1 = 32\n",
    "process1 = \"i5\"\n",
    "disco1 = 500\n",
    "precio1 = 850\n",
    "\n",
    "# Segundo ordenador\n",
    "ram2 = 8\n",
    "process2 = \"i5\"\n",
    "disco2 = 500\n",
    "precio2 = 600\n",
    "\n",
    "# Tercer ordenador\n",
    "ram3 = 32\n",
    "process3 = \"i3\"\n",
    "disco3 = 500\n",
    "precio3 = 780"
   ]
  },
  {
   "cell_type": "markdown",
   "metadata": {},
   "source": [
    "Eso sí, tenemos claras las siguentes condiciones a la hora de elegir\n",
    "* La RAM me vale que tenga 16, 32 o 64 GB\n",
    "* En cuanto al procesador y disco duro, la combinación que mejor me viene es un i3 con 500GB de disco.\n",
    "* Precio: que no pase de los 800 €\n",
    "\n",
    "Veamos cómo implemento esto mediante operaciones booleanas"
   ]
  },
  {
   "cell_type": "code",
   "execution_count": 97,
   "metadata": {},
   "outputs": [
    {
     "name": "stdout",
     "output_type": "stream",
     "text": [
      "El primer ordenador cumple la condición de la RAM:  True\n",
      "El primer ordenador cumple con la condicion del procesador y el disco: False\n",
      "El primer ordenador comple con la condicion del precio: False\n",
      "--------------------------\n",
      "El primer ordenador cumple con las condiciones:  False\n"
     ]
    }
   ],
   "source": [
    "# 1\n",
    "cond1 = (ram1 == 16) or (ram1 == 32) or (ram1 == 64)\n",
    "print('El primer ordenador cumple la condición de la RAM: ', cond1)\n",
    "\n",
    "# 2\n",
    "cond2 = (process1 == \"i3\") and (disco1 == 500) \n",
    "print(\"El primer ordenador cumple con la condicion del procesador y el disco:\",cond2)\n",
    "\n",
    "# 3\n",
    "cond3 = precio1 <= 800\n",
    "print(\"El primer ordenador comple con la condicion del precio:\", cond3)\n",
    "\n",
    "print('--------------------------')\n",
    "# condition_ord_1 = (cond1 == True) and (cond2 == True) and (cond3 == True)\n",
    "condition_ord_1 = (cond1 and cond2 and cond3)\n",
    "\n",
    "print('El primer ordenador cumple con las condiciones: ', condition_ord_1)"
   ]
  },
  {
   "cell_type": "markdown",
   "metadata": {},
   "source": [
    "El primer ordenador cumple el requisito de ram, pero no los de precio y procesador/disco. Veamos los otros dos si los cumplen"
   ]
  },
  {
   "cell_type": "code",
   "execution_count": 103,
   "metadata": {},
   "outputs": [
    {
     "data": {
      "text/plain": [
       "False"
      ]
     },
     "execution_count": 103,
     "metadata": {},
     "output_type": "execute_result"
    }
   ],
   "source": [
    "(ram2 == 16 or ram2 == 34 or ram2 == 64) and (process2 == 'i3' and disco2 == '500') and (precio2 <= 800)"
   ]
  },
  {
   "cell_type": "code",
   "execution_count": 109,
   "metadata": {},
   "outputs": [
    {
     "data": {
      "text/plain": [
       "False"
      ]
     },
     "execution_count": 109,
     "metadata": {},
     "output_type": "execute_result"
    }
   ],
   "source": [
    "# Otra forma de escribir la igualdad cuando comparamos elementos del mismo tipo\n",
    "\n",
    "(ram2 == 16 | ram2 == 34 | ram2 == 64) & (process2 == 'i3' and disco2 == '500') & (precio2 <= 800)"
   ]
  },
  {
   "cell_type": "code",
   "execution_count": 114,
   "metadata": {},
   "outputs": [
    {
     "data": {
      "text/plain": [
       "True"
      ]
     },
     "execution_count": 114,
     "metadata": {},
     "output_type": "execute_result"
    }
   ],
   "source": [
    "(ram3 == 16 or ram3 == 32 or ram3 == 64) and (process3 == 'i3') and (disco3 == 500) and (precio3 <= 780)"
   ]
  },
  {
   "cell_type": "markdown",
   "metadata": {},
   "source": [
    "¡Bingo! El tercer ordenador cumple todas las condiciones para ser mi futura compra. Verás en próximos notebooks que esto se puede hacer todavía más sencillo mediante bucles y funciones.\n",
    "\n",
    "Si quieres aprender más sobre el **Álgebra de Boole**, te recomiendo [esta página](https://ryanstutorials.net/boolean-algebra-tutorial/)"
   ]
  },
  {
   "cell_type": "markdown",
   "metadata": {},
   "source": [
    "<table align=\"left\">\n",
    " <tr><td width=\"80\"><img src=\"./img/error.png\" style=\"width:auto;height:auto\"></td>\n",
    "     <td style=\"text-align:left\">\n",
    "         <h3>ERRORES varios</h3>\n",
    "      \n",
    " </td></tr>\n",
    "</table>"
   ]
  },
  {
   "cell_type": "markdown",
   "metadata": {},
   "source": [
    "¡No me vas a creer cuando te diga que lo mejor que te puede pasar es que te salten errores por pantalla! Si, estos son los errores más fáciles de detectar y puede que también fáciles de corregir ya que tienes la ayuda del descriptivo del error. El problema gordo viene cuando no saltan errores y ves que tu código no lo está haciendo bien. Para ello tendremos que debugear el código y ver paso a paso que está pasando. Lo veremos en notebooks posteriores. De momento corregiremos el código revisandolo a ojo.\n",
    "\n",
    "Como ves en el siguiente ejemplo, el resultado del ordenador 3 es `False` cuando debería ser `True`. ¿Por qué?"
   ]
  },
  {
   "cell_type": "code",
   "execution_count": 14,
   "metadata": {},
   "outputs": [
    {
     "ename": "TypeError",
     "evalue": "'<=' not supported between instances of 'int' and 'str'",
     "output_type": "error",
     "traceback": [
      "\u001b[1;31m---------------------------------------------------------------------------\u001b[0m",
      "\u001b[1;31mTypeError\u001b[0m                                 Traceback (most recent call last)",
      "\u001b[1;32m~\\AppData\\Local\\Temp\\ipykernel_2736\\2390199231.py\u001b[0m in \u001b[0;36m<module>\u001b[1;34m\u001b[0m\n\u001b[1;32m----> 1\u001b[1;33m \u001b[0mcond_final3\u001b[0m \u001b[1;33m=\u001b[0m \u001b[1;33m(\u001b[0m\u001b[1;33m(\u001b[0m\u001b[0mram3\u001b[0m \u001b[1;33m==\u001b[0m \u001b[1;36m16\u001b[0m \u001b[1;32mor\u001b[0m \u001b[0mram3\u001b[0m \u001b[1;33m==\u001b[0m \u001b[1;36m32\u001b[0m \u001b[1;32mor\u001b[0m \u001b[0mram3\u001b[0m \u001b[1;33m==\u001b[0m \u001b[1;36m64\u001b[0m\u001b[1;33m)\u001b[0m \u001b[1;32mor\u001b[0m \u001b[1;33m(\u001b[0m\u001b[0mprocess3\u001b[0m \u001b[1;33m==\u001b[0m \u001b[1;34m\"i3\"\u001b[0m \u001b[1;32mand\u001b[0m \u001b[0mdisco3\u001b[0m \u001b[1;33m==\u001b[0m \u001b[1;36m500\u001b[0m\u001b[1;33m)\u001b[0m\u001b[1;33m)\u001b[0m \u001b[1;32mand\u001b[0m \u001b[1;33m(\u001b[0m\u001b[0mprecio3\u001b[0m \u001b[1;33m<=\u001b[0m \u001b[1;34m'800'\u001b[0m\u001b[1;33m)\u001b[0m\u001b[1;33m\u001b[0m\u001b[1;33m\u001b[0m\u001b[0m\n\u001b[0m\u001b[0;32m      2\u001b[0m \u001b[0mcond_final3\u001b[0m\u001b[1;33m\u001b[0m\u001b[1;33m\u001b[0m\u001b[0m\n",
      "\u001b[1;31mTypeError\u001b[0m: '<=' not supported between instances of 'int' and 'str'"
     ]
    }
   ],
   "source": [
    "cond_final3 = ((ram3 == 16 or ram3 == 32 or ram3 == 64) or (process3 == \"i3\" and disco3 == 500)) and (precio3 <= '800')\n",
    "cond_final3"
   ]
  },
  {
   "cell_type": "code",
   "execution_count": 118,
   "metadata": {},
   "outputs": [
    {
     "data": {
      "text/plain": [
       "True"
      ]
     },
     "execution_count": 118,
     "metadata": {},
     "output_type": "execute_result"
    }
   ],
   "source": [
    "# Comparando strings utiliza el numero de letras para comparar ambos\n",
    "\n",
    "a = 'Fernando'\n",
    "dorsal = 9\n",
    "\n",
    "a >= str(dorsal)"
   ]
  },
  {
   "cell_type": "markdown",
   "metadata": {},
   "source": [
    "Cuidado cuando tenemos sentencias muy largas, ya que nos puede bailar perfectamente un paréntesis, un `>`, un `and` por un `or`... Hay que andarse con mil ojos.\n",
    "\n",
    "Y sobretodo, cuidado con el *copy paste*. Muchas veces, por ahorrar tiempo, copiamos código ya escrito para cambiar pequeñas cosas y hay veces que se nos olvida cambiar otras. Pensamos que está bien, ejecutamos, y saltan errores. Copiar código no es una mala práctica, es más, muchas veces evitamos errores con los nombres de las variables, pero hay que hacerlo con cabeza."
   ]
  },
  {
   "cell_type": "markdown",
   "metadata": {},
   "source": [
    "<table align=\"left\">\n",
    " <tr><td width=\"80\"><img src=\"./img/ejercicio.png\" style=\"width:auto;height:auto\"></td>\n",
    "     <td style=\"text-align:left\">\n",
    "         <h3>Ejercicio de operaciones con booleanos</h3>\n",
    "\n",
    "Sin escribir código, ¿Qué valor devuelve cada una de las siguientes operaciones?\n",
    "<ol>\n",
    "    <li>not (True and False)</li>\n",
    "    <li>False or False or False or False or False or False or True or False or False or False</li>\n",
    "    <li>True or True or True or True or True or False or True or True or True or True</li>\n",
    "    <li>(False and True and True) or (True and True)</li>\n",
    "</ol>\n",
    "         \n",
    " </td></tr>\n",
    "</table>"
   ]
  },
  {
   "cell_type": "code",
   "execution_count": 120,
   "metadata": {},
   "outputs": [
    {
     "data": {
      "text/plain": [
       "False"
      ]
     },
     "execution_count": 120,
     "metadata": {},
     "output_type": "execute_result"
    }
   ],
   "source": [
    "True and False"
   ]
  },
  {
   "cell_type": "code",
   "execution_count": 124,
   "metadata": {},
   "outputs": [
    {
     "name": "stdout",
     "output_type": "stream",
     "text": [
      "True\n",
      "True\n",
      "True\n",
      "True\n"
     ]
    }
   ],
   "source": [
    "print(not (True and False))\n",
    "\n",
    "print(False or False or False or False or False or False or True or False or False or False)\n",
    "\n",
    "print(True or True or True or True or True or False or True or True or True or True)\n",
    "\n",
    "print((False and True and True) or (True and True))"
   ]
  },
  {
   "cell_type": "markdown",
   "metadata": {},
   "source": [
    "## 4. Funciones *Built in*\n",
    "Hay una serie de funciones internas, que vienen en el intérprete de Python. Algunas de las más comunes son:\n",
    "* **Tipos**: `bool()`, `str()`, `int()`, `float()`\n",
    "* **Min/Max**: `min()`, `max()`\n",
    "* **print()**\n",
    "* **type()**\n",
    "* **range()**\n",
    "* **zip()**\n",
    "* **len()**\n",
    "* ...\n",
    "\n",
    "La sintaxis de la función es:\n",
    "\n",
    "```Python\n",
    "nombre_funcion(argumentos)\n",
    "```\n",
    "\n",
    "Algunas ya las hemos visto. Sin embargo, hay unas cuantas que las iremos descubriendo a lo largo de estos notebooks. Para más detalle, tienes [aquí](https://docs.python.org/3/library/functions.html) todas las funciones *built-in* de la documentación.\n",
    "\n",
    "De momento, en lo que se refiere a funciones, vamos a ir trabajando con funciones ya hechas, pero más adelante crearemos nuestras propias funciones."
   ]
  },
  {
   "cell_type": "code",
   "execution_count": 31,
   "metadata": {},
   "outputs": [
    {
     "data": {
      "text/plain": [
       "10.39"
      ]
     },
     "execution_count": 31,
     "metadata": {},
     "output_type": "execute_result"
    }
   ],
   "source": [
    "var_name = 'John'\n",
    "years = [2010, 2011, 2013, 2015]\n",
    "\n",
    "# Longitud de string\n",
    "len(var_name)\n",
    "\n",
    "# maximo de varios números\n",
    "max(years)\n",
    "\n",
    "# mínimo de varios números\n",
    "min(years)\n",
    "\n",
    "# redondear\n",
    "measure = 10.385865894\n",
    "round(measure, 2)"
   ]
  },
  {
   "cell_type": "code",
   "execution_count": 34,
   "metadata": {},
   "outputs": [
    {
     "name": "stdout",
     "output_type": "stream",
     "text": [
      "Help on built-in function round in module builtins:\n",
      "\n",
      "round(number, ndigits=None)\n",
      "    Round a number to a given precision in decimal digits.\n",
      "    \n",
      "    The return value is an integer if ndigits is omitted or None.  Otherwise\n",
      "    the return value has the same type as the number.  ndigits may be negative.\n",
      "\n"
     ]
    }
   ],
   "source": [
    "help(round)"
   ]
  },
  {
   "cell_type": "code",
   "execution_count": 33,
   "metadata": {},
   "outputs": [
    {
     "data": {
      "text/plain": [
       "[('John', 25), ('Michael', 43), ('Peter', 12)]"
      ]
     },
     "execution_count": 33,
     "metadata": {},
     "output_type": "execute_result"
    }
   ],
   "source": [
    "names = ['John', 'Michael', 'Peter']\n",
    "ages = [25, 43, 12]\n",
    "\n",
    "list(zip(names, ages))"
   ]
  },
  {
   "cell_type": "markdown",
   "metadata": {},
   "source": [
    "<table align=\"left\">\n",
    " <tr><td width=\"80\"><img src=\"./img/ejercicio.png\" style=\"width:auto;height:auto\"></td>\n",
    "     <td style=\"text-align:left\">\n",
    "         <h3>Ejercicio de funciones built-in</h3>\n",
    "\n",
    "Busca <a href=\"https://docs.python.org/3/library/functions.html\">en la documentación</a> una función que te sirva para ordenar de manera descendente la siguiente lista\n",
    "\n",
    "`temperaturas = [17,22,26,18,21,25,29]`\n",
    "         \n",
    " </td></tr>\n",
    "</table>"
   ]
  },
  {
   "cell_type": "code",
   "execution_count": 35,
   "metadata": {},
   "outputs": [
    {
     "name": "stdout",
     "output_type": "stream",
     "text": [
      "Help on built-in function sorted in module builtins:\n",
      "\n",
      "sorted(iterable, /, *, key=None, reverse=False)\n",
      "    Return a new list containing all items from the iterable in ascending order.\n",
      "    \n",
      "    A custom key function can be supplied to customize the sort order, and the\n",
      "    reverse flag can be set to request the result in descending order.\n",
      "\n"
     ]
    }
   ],
   "source": [
    "help(sorted)"
   ]
  },
  {
   "cell_type": "code",
   "execution_count": 38,
   "metadata": {},
   "outputs": [
    {
     "data": {
      "text/plain": [
       "[29, 26, 25, 22, 21, 18, 17]"
      ]
     },
     "execution_count": 38,
     "metadata": {},
     "output_type": "execute_result"
    }
   ],
   "source": [
    "temperaturas = [17,22,26,18,21,25,29]\n",
    "\n",
    "sorted(temperaturas, reverse=True)"
   ]
  },
  {
   "cell_type": "markdown",
   "metadata": {},
   "source": [
    "## 5. Métodos\n",
    "Se trata de una propiedad MUY utilizada en programación. Son funciones propias de las variables/objetos, y que nos permiten modificarlos u obtener más información de los mismos. Dependiendo del tipo de objeto, tendremos unos métodos disponibles diferentes.\n",
    "\n",
    "Para usar un método se usa la sintaxis `objeto.metodo()`. Ponemos un punto entre el nombre del objeto y el del metodo, y unos paréntesis por si el método necesita de algunos argumentos. **Aunque no necesite de argumentos, los paréntesis hay que ponerlos igualmente.**\n",
    "\n",
    "Veamos algunos ejemplos\n",
    "\n",
    "### String\n",
    "Una variable de tipo string, tiene una serie de métodos que permiten sacarle jugo a la cadena de texto. [Aquí](https://docs.python.org/2.5/lib/string-methods.html) tienes todos los métodos que podemos usar en cadenas de texto"
   ]
  },
  {
   "cell_type": "code",
   "execution_count": 80,
   "metadata": {},
   "outputs": [
    {
     "data": {
      "text/plain": [
       "0"
      ]
     },
     "execution_count": 80,
     "metadata": {},
     "output_type": "execute_result"
    }
   ],
   "source": [
    "string_ejemplo = \"string en mayusculas\"\n",
    "\n",
    "# Pon todo en mayúscula\n",
    "string_ejemplo.upper()\n",
    "\n",
    "# Pon todo en minúscula\n",
    "string_ejemplo.lower()\n",
    "\n",
    "# Cambia la \"s\" por \"S\"\n",
    "string_ejemplo.replace('s', 'S')\n",
    "\n",
    "# Separa cada palabra en una lista\n",
    "string_ejemplo.split()\n",
    "\n",
    "# Busca cuantas \"s\" hay\n",
    "string_ejemplo.count('s')\n",
    "\n",
    "# Busca en qué posición está \"r\" en el texto\n",
    "string_ejemplo.index('r')\n",
    "string_ejemplo.find('s')\n"
   ]
  },
  {
   "cell_type": "markdown",
   "metadata": {},
   "source": [
    "Como ves, se pueden hacer muchas cosas en los Strings gracias a sus métodos. Ya verás cómo la cosa se pone más interesante cuando los tipos de los datos sean todavía más complejos.\n",
    "\n",
    "Los métodos son una manera de abstraernos de cierta operativa. Convertir todos los caracteres de una cadena a minuscula, puede ser un poco tedioso si no existiese el método `lower()`. Tendríamos que acudir a bucles o programación funcional."
   ]
  },
  {
   "cell_type": "markdown",
   "metadata": {},
   "source": [
    "<table align=\"left\">\n",
    " <tr><td width=\"80\"><img src=\"./img/error.png\" style=\"width:auto;height:auto\"></td>\n",
    "     <td style=\"text-align:left\">\n",
    "         <h3>ERRORES en métodos</h3>\n",
    "         \n",
    " </td></tr>\n",
    "</table>"
   ]
  },
  {
   "cell_type": "code",
   "execution_count": 57,
   "metadata": {
    "scrolled": true
   },
   "outputs": [
    {
     "ename": "TypeError",
     "evalue": "lower() takes no arguments (1 given)",
     "output_type": "error",
     "traceback": [
      "\u001b[1;31m---------------------------------------------------------------------------\u001b[0m",
      "\u001b[1;31mTypeError\u001b[0m                                 Traceback (most recent call last)",
      "\u001b[1;32m~\\AppData\\Local\\Temp\\ipykernel_18184\\4018533118.py\u001b[0m in \u001b[0;36m<module>\u001b[1;34m\u001b[0m\n\u001b[0;32m      1\u001b[0m \u001b[0mstr_ejemplo\u001b[0m \u001b[1;33m=\u001b[0m \u001b[1;34m\"STRING\"\u001b[0m\u001b[1;33m\u001b[0m\u001b[1;33m\u001b[0m\u001b[0m\n\u001b[1;32m----> 2\u001b[1;33m \u001b[0mstr_ejemplo\u001b[0m\u001b[1;33m.\u001b[0m\u001b[0mlower\u001b[0m\u001b[1;33m(\u001b[0m\u001b[1;34m'JFIRFRIF'\u001b[0m\u001b[1;33m)\u001b[0m\u001b[1;33m\u001b[0m\u001b[1;33m\u001b[0m\u001b[0m\n\u001b[0m",
      "\u001b[1;31mTypeError\u001b[0m: lower() takes no arguments (1 given)"
     ]
    }
   ],
   "source": [
    "str_ejemplo = \"STRING\"\n",
    "str_ejemplo.lower('JFIRFRIF')"
   ]
  },
  {
   "cell_type": "markdown",
   "metadata": {},
   "source": [
    "## 6. Listas\n",
    "Se trata de otro de los tipos de datos de Python más usados. Dentro de las colecciones, que veremos más adelante, la lista es la colección que normalmente se le da más uso. **Nos permiten almacenar conjuntos de variables u objetos**, y son elementos de lo más versátiles puesto que podemos almacenar objetos de distintos tipos, modificarlos, eliminarlos, meter listas dentro de listas... Sus dos caractrísticas principales son:\n",
    "* **Mutables**: una vez se ha creado la lista, se puede modificar\n",
    "* **Ordenada**: Los elementos tienen un cierto orden, lo que nos permite acceder al elemento que queramos teniendo en cuenta tal orden\n",
    "\n",
    "En cuanto a su sintaxis, cuando declaremos la lista simplemente hay que separar cada elemento con comas, y rodearlo todo con corchetes."
   ]
  },
  {
   "cell_type": "code",
   "execution_count": 58,
   "metadata": {},
   "outputs": [
    {
     "data": {
      "text/plain": [
       "[17, 22, 26, 18, 21, 25, 29]"
      ]
     },
     "execution_count": 58,
     "metadata": {},
     "output_type": "execute_result"
    }
   ],
   "source": [
    "# Lista de números\n",
    "\n",
    "temperaturas = [17,22,26,18,21,25,29]\n",
    "temperaturas"
   ]
  },
  {
   "cell_type": "code",
   "execution_count": 61,
   "metadata": {},
   "outputs": [
    {
     "data": {
      "text/plain": [
       "list"
      ]
     },
     "execution_count": 61,
     "metadata": {},
     "output_type": "execute_result"
    }
   ],
   "source": [
    "# Lista de strings\n",
    "alumnos = ['Antonio', 'Juan Pablo', 'Guillermo']\n",
    "\n",
    "# Listas de booleanos\n",
    "aprobados = [True, True, False, True]\n",
    "\n",
    "# Listas mixtas (con strings, con int, con floats, con listas...)\n",
    "mix = [['Antonio', 'Juan Pablo', 'Guillermo'], [4.5, 4.3, 9.9], [3, 4, 5], '9', False]\n",
    "\n",
    "type(mix)"
   ]
  },
  {
   "cell_type": "markdown",
   "metadata": {},
   "source": [
    "**NOTA**: ¿Ves por qué los decimales en Python siempre van con puntos y no con comas? Con las colecciones el intérprete de Python se volvería loco.\n",
    "\n",
    "Podemos ver tambien el tipo de la lista"
   ]
  },
  {
   "cell_type": "code",
   "execution_count": 62,
   "metadata": {},
   "outputs": [
    {
     "data": {
      "text/plain": [
       "list"
      ]
     },
     "execution_count": 62,
     "metadata": {},
     "output_type": "execute_result"
    }
   ],
   "source": [
    "type(aprobados)"
   ]
  },
  {
   "cell_type": "markdown",
   "metadata": {},
   "source": [
    "Calcular la longitud de la misma mediante el método *built-in* ya visto: `len()`"
   ]
  },
  {
   "cell_type": "code",
   "execution_count": 63,
   "metadata": {},
   "outputs": [
    {
     "data": {
      "text/plain": [
       "7"
      ]
     },
     "execution_count": 63,
     "metadata": {},
     "output_type": "execute_result"
    }
   ],
   "source": [
    "len(temperaturas)"
   ]
  },
  {
   "cell_type": "markdown",
   "metadata": {},
   "source": [
    "Accedemos a los elemenos de la lista mediante corchetes `[]`\n",
    "\n",
    "**Importante**. El primer elemento es el 0"
   ]
  },
  {
   "cell_type": "code",
   "execution_count": 66,
   "metadata": {},
   "outputs": [
    {
     "data": {
      "text/plain": [
       "18"
      ]
     },
     "execution_count": 66,
     "metadata": {},
     "output_type": "execute_result"
    }
   ],
   "source": [
    "temperaturas = [17,22,26,18,21,25,29]\n",
    "\n",
    "temperaturas[3]"
   ]
  },
  {
   "cell_type": "code",
   "execution_count": 70,
   "metadata": {},
   "outputs": [
    {
     "data": {
      "text/plain": [
       "6"
      ]
     },
     "execution_count": 70,
     "metadata": {},
     "output_type": "execute_result"
    }
   ],
   "source": [
    "len(temperaturas) -1"
   ]
  },
  {
   "cell_type": "code",
   "execution_count": 74,
   "metadata": {},
   "outputs": [
    {
     "ename": "IndexError",
     "evalue": "list index out of range",
     "output_type": "error",
     "traceback": [
      "\u001b[1;31m---------------------------------------------------------------------------\u001b[0m",
      "\u001b[1;31mIndexError\u001b[0m                                Traceback (most recent call last)",
      "\u001b[1;32m~\\AppData\\Local\\Temp\\ipykernel_18184\\2390511535.py\u001b[0m in \u001b[0;36m<module>\u001b[1;34m\u001b[0m\n\u001b[1;32m----> 1\u001b[1;33m \u001b[0mtemperaturas\u001b[0m\u001b[1;33m[\u001b[0m\u001b[1;36m289\u001b[0m\u001b[1;33m]\u001b[0m\u001b[1;33m\u001b[0m\u001b[1;33m\u001b[0m\u001b[0m\n\u001b[0m",
      "\u001b[1;31mIndexError\u001b[0m: list index out of range"
     ]
    }
   ],
   "source": [
    "temperaturas[289]"
   ]
  },
  {
   "cell_type": "markdown",
   "metadata": {},
   "source": [
    "### Metodos en Listas\n",
    "Para el tipo de objeto lista, también hay una serie de métodos catacterísticos que nos permiten operar con ellas: añadir valores, quitarlos, indexado, filtrado, etc... En [este enlace](https://www.w3schools.com/python/python_ref_list.asp) puedes encontrar todos los métodos que podrás usar con listas."
   ]
  },
  {
   "cell_type": "code",
   "execution_count": 84,
   "metadata": {},
   "outputs": [],
   "source": [
    "aprobados = [True, True, False, True]\n",
    "\n",
    "# \"append\" para añadir elemento a la lista\n",
    "aprobados.append(True)\n",
    "\n",
    "# \"index\" para buscar en qué posición está un elemento\n",
    "aprobados.index(True)\n",
    "\n",
    "# \"count\" para contar cuantas veces sale un elemento\n",
    "aprobados.count(True)\n",
    "\n",
    "# \"clear\" para limpiar una lista\n",
    "aprobados.clear()"
   ]
  },
  {
   "cell_type": "code",
   "execution_count": 85,
   "metadata": {},
   "outputs": [
    {
     "data": {
      "text/plain": [
       "[]"
      ]
     },
     "execution_count": 85,
     "metadata": {},
     "output_type": "execute_result"
    }
   ],
   "source": [
    "aprobados"
   ]
  },
  {
   "cell_type": "markdown",
   "metadata": {},
   "source": [
    "<table align=\"left\">\n",
    " <tr><td width=\"80\"><img src=\"./img/ejercicio.png\" style=\"width:auto;height:auto\"></td>\n",
    "     <td style=\"text-align:left\">\n",
    "         <h3>Ejercicio de listas</h3>\n",
    "\n",
    "<ol>\n",
    "    <li>Crea una lista con tus 3 películas favoritas.</li>\n",
    "    <li>Imprime por pantalla la longitud de la lista</li>\n",
    "    <li>Añade a esta lista otra lista con tus 3 series favoritas</li>\n",
    "</ol>\n",
    "         \n",
    " </td></tr>\n",
    "</table>"
   ]
  },
  {
   "cell_type": "code",
   "execution_count": 96,
   "metadata": {},
   "outputs": [
    {
     "name": "stdout",
     "output_type": "stream",
     "text": [
      "3\n",
      "['Avengers', 'Harry Potter', 'Star Wars', ['La que se avecina', 'Aquí no hay quien viva', 'Dragon Ball']]\n"
     ]
    }
   ],
   "source": [
    "peliculas = [\"Avengers\",\"Harry Potter\", \"Star Wars\"]\n",
    "long = len(peliculas)\n",
    "print(long)\n",
    "\n",
    "series = [\"La que se avecina\", \"Aquí no hay quien viva\", \"Dragon Ball\"]\n",
    "peliculas.append(series)\n",
    "\n",
    "print(peliculas)\n"
   ]
  },
  {
   "cell_type": "code",
   "execution_count": 101,
   "metadata": {},
   "outputs": [
    {
     "data": {
      "text/plain": [
       "['Avengers',\n",
       " 'Harry Potter',\n",
       " 'Star Wars',\n",
       " 'La que se avecina',\n",
       " 'Aquí no hay quien viva',\n",
       " 'Dragon Ball',\n",
       " 'Lord of the rings']"
      ]
     },
     "execution_count": 101,
     "metadata": {},
     "output_type": "execute_result"
    }
   ],
   "source": [
    "peliculas = [\"Avengers\", \"Sounds of Freedom\", \"Star Wars\"]\n",
    "series = [\"The Chosen\", \"Los anillos del Poder\", \"Dragon Ball\"]\n",
    "\n",
    "peliculas + series + ['Lord of the rings']"
   ]
  },
  {
   "cell_type": "markdown",
   "metadata": {},
   "source": [
    "## 7. Resumen"
   ]
  },
  {
   "cell_type": "code",
   "execution_count": null,
   "metadata": {},
   "outputs": [],
   "source": [
    "# Operaciones matemáticas\n",
    "print(\"Operaciones matemáticas\")\n",
    "print(4 + 6)\n",
    "print(9*2)\n",
    "print(2 * (3 + 5))\n",
    "print(10/5)\n",
    "print(10 % 3)\n",
    "print(2**10)\n",
    "\n",
    "# Funciones matemáticas más complejas\n",
    "import math\n",
    "print(math.sqrt(25))\n",
    "\n",
    "\n",
    "# Operaciones comparativas\n",
    "print(\"\\nOperaciones comparativas\")\n",
    "print(\"AAA\" == \"BBB\")\n",
    "print(\"AAA\" == \"AAA\")\n",
    "print(1 == 1)\n",
    "print(1 == 1.0)\n",
    "print(67 != 93)\n",
    "print(67 > 93)\n",
    "print(67 >= 93)\n",
    "\n",
    "\n",
    "# Operaciones con booleanos\n",
    "print(\"\\nOperaciones con booleanos\")\n",
    "print(True and True and False)\n",
    "print(True or True or False)\n",
    "print(not False)\n",
    "\n",
    "\n",
    "# Funciones builtin\n",
    "print(\"\\nFunciones built-in\")\n",
    "string_builtin = \"Fin del notebook\"\n",
    "print(string_builtin.upper())\n",
    "print(string_builtin.lower())\n",
    "print( string_builtin.replace(\"o\", \"O\"))\n",
    "print(string_builtin.replace(\"o\", \"\"))\n",
    "\n",
    "\n",
    "# Listas\n",
    "print(\"\\nListas\")\n",
    "musica = [\"AC/DC\", \"Metallica\", \"Nirvana\"]\n",
    "musica.append(\"Queen\")\n",
    "print(musica)"
   ]
  },
  {
   "cell_type": "markdown",
   "metadata": {},
   "source": [
    "# Ejercicio de clase\n",
    "\n",
    "----"
   ]
  },
  {
   "cell_type": "code",
   "execution_count": 1,
   "metadata": {},
   "outputs": [],
   "source": [
    "import variables"
   ]
  },
  {
   "cell_type": "code",
   "execution_count": 2,
   "metadata": {},
   "outputs": [
    {
     "data": {
      "text/plain": [
       "'España'"
      ]
     },
     "execution_count": 2,
     "metadata": {},
     "output_type": "execute_result"
    }
   ],
   "source": [
    "variables.country"
   ]
  },
  {
   "cell_type": "code",
   "execution_count": 6,
   "metadata": {},
   "outputs": [
    {
     "name": "stdout",
     "output_type": "stream",
     "text": [
      "<class 'str'>\n",
      "<class 'str'>\n",
      "<class 'str'>\n",
      "<class 'str'>\n",
      "<class 'str'>\n",
      "<class 'int'>\n",
      "<class 'int'>\n",
      "<class 'bool'>\n",
      "<class 'bool'>\n",
      "<class 'bool'>\n",
      "4\n",
      "False\n",
      "Suma: 9\n",
      "Resta: 1\n",
      "Producto: 20\n",
      "División: 1.25\n",
      "Módulo: 1\n",
      "Exponencial: 625\n",
      "Área del círculo: 2827.431\n",
      "\n",
      "Here is a list of the Python keywords.  Enter any keyword to get more help.\n",
      "\n",
      "False               class               from                or\n",
      "None                continue            global              pass\n",
      "True                def                 if                  raise\n",
      "and                 del                 import              return\n",
      "as                  elif                in                  try\n",
      "assert              else                is                  while\n",
      "async               except              lambda              with\n",
      "await               finally             nonlocal            yield\n",
      "break               for                 not                 \n",
      "\n"
     ]
    }
   ],
   "source": [
    "# 1. Verificar el tipo de dato de todas las variables\n",
    "print(type(variables.first_name)) \n",
    "print(type(variables.last_name))  \n",
    "print(type(variables.full_name))  \n",
    "print(type(variables.country))    \n",
    "print(type(variables.city))   \n",
    "print(type(variables.age))       \n",
    "print(type(variables.year))   \n",
    "print(type(variables.is_married)) \n",
    "print(type(variables.is_true))   \n",
    "print(type(variables.is_light_on))\n",
    "\n",
    "# 2. Longitud del nombre\n",
    "print(len(variables.first_name)) \n",
    "\n",
    "# 3. Comparar longitud de nombre y apellido\n",
    "print(len(variables.first_name) > len(variables.last_name))\n",
    "\n",
    "# 4. Suma, resta, multiplicación, división y otros cálculos\n",
    "num_one = 5\n",
    "num_two = 4\n",
    "\n",
    "# 5. Suma\n",
    "total = num_one + num_two\n",
    "print(f\"Suma: {total}\") \n",
    "\n",
    "# 6. Resta\n",
    "diff = num_one - num_two\n",
    "print(f\"Resta: {diff}\")\n",
    "\n",
    "# 7. Multiplicación\n",
    "print(f\"Producto: {num_one * num_two}\") \n",
    "\n",
    "# 8. División\n",
    "division = num_one / num_two\n",
    "print(f\"División: {division}\") \n",
    "\n",
    "# 9. Módulo\n",
    "remainder = num_one % num_two\n",
    "print(f\"Módulo: {remainder}\")\n",
    "\n",
    "# 10. Potencia\n",
    "exp = num_one ** num_two\n",
    "print(f\"Exponencial: {exp}\")\n",
    "\n",
    "# 11. Calcular el área de un círculo (radio = 30)\n",
    "radius = 30\n",
    "pi = 3.14159\n",
    "area_of_circle = pi * radius ** 2\n",
    "print(\"Área del círculo:\", area_of_circle)  \n",
    "\n",
    "# 12. Obtener nombre, apellido, país y edad del usuario\n",
    "nombre_usuario = input(\"Introduce tu nombre: \")\n",
    "apellido_usuario = input(\"Introduce tu apellido: \")\n",
    "pais_usuario = input(\"Introduce tu país: \")\n",
    "edad_usuario = int(input(\"Introduce tu edad: \"))\n",
    "\n",
    "# 13. Ejecutar help('keywords') en la consola de Python\n",
    "help('keywords')\n"
   ]
  }
 ],
 "metadata": {
  "kernelspec": {
   "display_name": "ignis",
   "language": "python",
   "name": "python3"
  },
  "language_info": {
   "codemirror_mode": {
    "name": "ipython",
    "version": 3
   },
   "file_extension": ".py",
   "mimetype": "text/x-python",
   "name": "python",
   "nbconvert_exporter": "python",
   "pygments_lexer": "ipython3",
   "version": "3.7.4"
  },
  "nbTranslate": {
   "displayLangs": [
    "*"
   ],
   "hotkey": "alt-t",
   "langInMainMenu": true,
   "sourceLang": "en",
   "targetLang": "fr",
   "useGoogleTranslate": true
  },
  "varInspector": {
   "cols": {
    "lenName": 16,
    "lenType": 16,
    "lenVar": 40
   },
   "kernels_config": {
    "python": {
     "delete_cmd_postfix": "",
     "delete_cmd_prefix": "del ",
     "library": "var_list.py",
     "varRefreshCmd": "print(var_dic_list())"
    },
    "r": {
     "delete_cmd_postfix": ") ",
     "delete_cmd_prefix": "rm(",
     "library": "var_list.r",
     "varRefreshCmd": "cat(var_dic_list()) "
    }
   },
   "types_to_exclude": [
    "module",
    "function",
    "builtin_function_or_method",
    "instance",
    "_Feature"
   ],
   "window_display": false
  }
 },
 "nbformat": 4,
 "nbformat_minor": 4
}
